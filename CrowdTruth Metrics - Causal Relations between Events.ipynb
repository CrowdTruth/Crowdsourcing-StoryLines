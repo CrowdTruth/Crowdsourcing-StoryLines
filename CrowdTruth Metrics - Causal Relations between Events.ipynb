{
 "cells": [
  {
   "cell_type": "markdown",
   "metadata": {},
   "source": [
    "# CrowdTruth metrics 2.0 documentation\n",
    "\n",
    "Let:\n",
    "\n",
    "* $workers(u):$ all workers that annotate media unit $u$;\n",
    "* $units(i):$ all input media units annotated by worker $i$;\n",
    "* $WorkVec(i, u):$ annotations of worker $i$ on media unit $u$ as a binary vector;\n",
    "* $MediaUnitVec(s) = \\sum_{i \\in workers(s)} WorkVec(i,s)$, where $s$ is an input media unit.\n",
    "\n",
    "## Media Unit Quality Score (UQS)\n",
    "\n",
    "The unit quality score $UQS(u)$ is computed as the average cosine similarity between all worker vectors for a given input media unit $u$, weighted by the worker quality ($WQS$) and annotation quality ($AQS$). The goal is to capture the degree of agreement in annotating the media unit. Through the weighted average, workers and annotations with lower quality will have less of an impact on the final score.\n",
    "\n",
    "$$ UQS(u) = \\frac{\\sum_{i, j \\in workers(u)} Wcos(WorkVec(i,u), WorkVec(j,u)) \\; WQS(i) \\; WQS(j)}{\\sum_{i, j \\in workers(u)} WQS(i) \\; WQS(j)}, \\; i \\neq j.$$\n",
    "\n",
    "\n",
    "### Weighted Cosine\n",
    "\n",
    "To weigh the metrics with the annotation quality, we compute $Wcos$, the weighted version of the cosine similarity. This metric is only applicable to closed tasks, where annotation quality can be calculated across media units. For open-ended tasks, we consider annotation quality equal to 1 and calculate the regular cosine similarity.\n",
    "\n",
    "$$ Wcos(vec_1, vec_2) = \\frac{\\sum_{a} vec_1(a) \\; vec_2(a) \\; AQS(a)}{\\sqrt{(\\sum_{a} vec_1^2(a) \\; AQS(a)) \\; (\\sum_{a} vec_2^2(a) \\; AQS(a))}} .$$ \n",
    "\n",
    "\n",
    "## Worker Quality Score (WQS)\n",
    "\n",
    "The worker quality score $WQS(i)$ for a given worker $i$ is the product of 2 separate metrics - the worker-worker agreement $WWA(i)$ and the worker-media unit agreement $WUA(i)$.\n",
    "\n",
    "$$ WQS(i) = WUA(i) \\; WWA(i) .$$\n",
    "\n",
    "### Worker-Media Unit Agreement\n",
    "\n",
    "The worker-media unit agreement $WUA(i)$ is the average cosine distance between the annotations of a worker $i$ and all annotations for the media units they have worked on, weighted by the media unit and annotation quality. It calculates how much a worker disagrees with the crowd on a media unit basis. Through the weighted average, media units and anntation with lower quality will have less of an impact on the final score.\n",
    "\n",
    "$$ WSA(i) = \\frac{\\sum_{u \\in units(i)} Wcos(WorkVec(i,u), MediaUnitVec(u) - WorkVec(i, u)) \\; UQS(u)}{\\sum_{u \\in units(i)} UQS(u)} .$$\n",
    "\n",
    "### Worker-Worker Agreement\n",
    "\n",
    "The worker-worker agreement $WWA(i)$ is the average cosine distance between the annotations of a worker $i$ and all other workers that have worked on the same media units as worker $i$, weighted by the worker and annotation qualities. The metric gives an indication as to whether there are consisently like-minded workers. This is useful for identifying communities of thought. Through the weighted average, workers and annotations with lower quality will have less of an impact on the final score of the given worker.\n",
    "\n",
    "$$ WWA(i) = \\frac{ \\sum_{j \\in workers(u \\in units(i))} Wcos(WorkVec(i, u), WorkVec(j, u)) \\; WQS(j) \\; UQS(u) }{ \\sum_{j \\in workers(s \\in units(i))} WQS(j) \\; UQS(u) }, \\; i \\neq j .$$\n",
    "\n",
    "\n",
    "## Annotation Quality Score (AQS)\n",
    "\n",
    "The annotation quality score $AQS(a)$ calculates the agreement of selecting an annotation $a$, over all the media units it appears in. Therefore, it is only applicable to closed tasks, where the same annotation set is used for all input media units. It is based on $P_a(i | j)$, the probability that if a worker $j$ annotates $a$ in a media unit, worker $i$ will also annotate it. \n",
    "\n",
    "$$ P_a(i | j) = \\frac{ \\sum_{u \\in units(i) \\cap units(j) } UQS(u) \\; WorkVec(i, s)(r) \\; WorkVec(j, s)(r) }{ \\sum_{u \\in units(i) \\cap units(j) } UQS(u) \\; WorkVec(j, u)(r) } . $$\n",
    "\n",
    "$AQS(a)$ is the weighted average of $P_a(i | j)$ for all possible pairs of workers. Through the weighted average, input media units and workers with lower quality will have less of an impact on the final score of the annotation.\n",
    "\n",
    "$$ AQS(a) = \\frac{ \\sum_{i,j} WQS(i) \\; WQS(j) \\; P_a(i | j) }{ \\sum_{i,j} WQS(i) \\; WQS(j) }, i \\neq j . $$\n",
    "\n",
    "\n",
    "## Media Unit-Annotation Score (UAS)\n",
    "\n",
    "The media unit - annotation score $UAS(u, a)$ calculates the likelihood that annotation $a$ is expressed in input media unit $u$. It is the ratio of the number of workers that picked annotation $u$ over all workers that annotated the unit, weighted by the worker quality.\n",
    "\n",
    "$$ UAS(u, a) = \\frac{ \\sum_{i \\in workers(u)} WorkVec(i,u)(a) \\; WQS(i) }{ \\sum_{i \\in workers(u)} WQS(i) }. $$"
   ]
  },
  {
   "cell_type": "markdown",
   "metadata": {},
   "source": [
    "# Run the metrics"
   ]
  },
  {
   "cell_type": "code",
   "execution_count": 2,
   "metadata": {},
   "outputs": [],
   "source": [
    "# !pip install CrowdTruth==2.0a1\n",
    "\n",
    "import crowdtruth\n",
    "from crowdtruth.configuration import DefaultConfig\n",
    "import logging\n",
    "\n",
    "logger = logging.getLogger()\n",
    "logger.setLevel(logging.DEBUG)\n",
    "\n",
    "class config(DefaultConfig):\n",
    "    inputColumns = [\"index\", \"number\", \"events1\", \"sentence1\", \"sentence1_id\", \"pair1\", \"pair2\", \"pair3\", \"pair4\", \"pair5\", \"pair6\"]\n",
    "    outputColumns = [\"relations\"]\n",
    "    \n",
    "    # processing of a closed task\n",
    "    open_ended_task = True\n",
    "    annotation_vector = [\n",
    "    ]\n",
    "    \n",
    "    column_separator = \",\"\n",
    "    vector_separator = \"\\n\"\n",
    "        \n",
    "    def processJudgments(self, judgments):\n",
    "        # change default separator to whitespace to make it work with our file\n",
    "        for col in self.outputColumns:\n",
    "            judgments[col] = judgments[col].apply(lambda x: x.replace('\\n', ','))\n",
    "        return judgments"
   ]
  },
  {
   "cell_type": "markdown",
   "metadata": {},
   "source": [
    "Creating a class that inherits from `Configuration` lets us define how the input file will be processed:\n",
    "\n",
    "* `inputColumns`: list of input columns from the .csv file, the input that the workers were shown\n",
    "* `outputColumns`: list of output columns with the answers from the workers\n",
    "* `processJudgments`: function that defines how the worker judgments wil be processed; default separator for judgments is ','\n",
    "\n",
    "To build the annotation vector, we also need to specify whether this is an **open-ended** or **closed** task, using the `open_ended_task` variable.\n",
    "\n",
    "* **open-ended task** means that the annotation space is not known, and workers can freely provide all the choices that apply (e.g. in sound tagging, the workers are provided with a text box to enter all tags they can think of)\n",
    "* **closed task** means that the annotations that can occur in the data are already known, and the workers are asked to validate their existence (e.g. for medical relation extraction, the workers pick from a pre-defined multiple-choice set of relations)\n",
    "\n",
    "If the task we are processing is **closed**, then we also need to provide the list of possible annotations in the `annotation_vector` variable."
   ]
  },
  {
   "cell_type": "code",
   "execution_count": 4,
   "metadata": {},
   "outputs": [
    {
     "name": "stderr",
     "output_type": "stream",
     "text": [
      "INFO:root:Config loaded\n",
      "INFO:root:Found 39 files\n",
      "INFO:root:Processing f1223683.csv\n",
      "INFO:root:Values not stored as dictionary\n",
      "INFO:root:Processing f1223697.csv\n",
      "INFO:root:Values not stored as dictionary\n",
      "INFO:root:Processing f1223696.csv\n",
      "INFO:root:Values not stored as dictionary\n",
      "INFO:root:Processing f1223682.csv\n",
      "INFO:root:Values not stored as dictionary\n",
      "INFO:root:Processing f1223680.csv\n",
      "INFO:root:Values not stored as dictionary\n",
      "INFO:root:Processing f1223681.csv\n",
      "INFO:root:Values not stored as dictionary\n",
      "INFO:root:Processing f1223695.csv\n",
      "INFO:root:Values not stored as dictionary\n",
      "INFO:root:Processing f1223685.csv\n",
      "INFO:root:Values not stored as dictionary\n",
      "INFO:root:Processing f1220777.csv\n",
      "INFO:root:Values not stored as dictionary\n",
      "INFO:root:Processing f1223684.csv\n",
      "INFO:root:Values not stored as dictionary\n",
      "INFO:root:Processing f1223690.csv\n",
      "INFO:root:Values not stored as dictionary\n",
      "INFO:root:Processing f1223692.csv\n",
      "INFO:root:Values not stored as dictionary\n",
      "INFO:root:Processing f1030246.csv\n",
      "INFO:root:Values not stored as dictionary\n",
      "INFO:root:Processing f1223693.csv\n",
      "INFO:root:Values not stored as dictionary\n",
      "INFO:root:Processing f1223678.csv\n",
      "INFO:root:Values not stored as dictionary\n",
      "INFO:root:Processing f1223675.csv\n",
      "INFO:root:Values not stored as dictionary\n",
      "INFO:root:Processing f1223701.csv\n",
      "INFO:root:Values not stored as dictionary\n",
      "INFO:root:Processing f1223700.csv\n",
      "INFO:root:Values not stored as dictionary\n",
      "INFO:root:Processing f1223674.csv\n",
      "INFO:root:Values not stored as dictionary\n",
      "INFO:root:Processing f1222781.csv\n",
      "INFO:root:Values not stored as dictionary\n",
      "INFO:root:Processing f1223689.csv\n",
      "INFO:root:Values not stored as dictionary\n",
      "INFO:root:Processing f1223702.csv\n",
      "INFO:root:Values not stored as dictionary\n",
      "INFO:root:Processing f1223703.csv\n",
      "INFO:root:Values not stored as dictionary\n",
      "INFO:root:Processing f1223688.csv\n",
      "INFO:root:Values not stored as dictionary\n",
      "INFO:root:Processing f1223677.csv\n",
      "INFO:root:Values not stored as dictionary\n",
      "INFO:root:Processing f1222780.csv\n",
      "INFO:root:Values not stored as dictionary\n",
      "INFO:root:Processing f1223673.csv\n",
      "INFO:root:Values not stored as dictionary\n",
      "INFO:root:Processing f1223698.csv\n",
      "INFO:root:Values not stored as dictionary\n",
      "INFO:root:Processing f1223706.csv\n",
      "INFO:root:Values not stored as dictionary\n",
      "INFO:root:Processing f1223699.csv\n",
      "INFO:root:Values not stored as dictionary\n",
      "INFO:root:Processing f1223704.csv\n",
      "INFO:root:Values not stored as dictionary\n",
      "INFO:root:Processing f1223705.csv\n",
      "INFO:root:Values not stored as dictionary\n",
      "INFO:root:Processing f1030375.csv\n",
      "INFO:root:Values not stored as dictionary\n",
      "INFO:root:Processing f1030374.csv\n",
      "INFO:root:Values not stored as dictionary\n",
      "INFO:root:Processing f1030376.csv\n",
      "INFO:root:Values not stored as dictionary\n",
      "INFO:root:Processing f1030373.csv\n",
      "INFO:root:Values not stored as dictionary\n",
      "INFO:root:Processing f1030372.csv\n",
      "INFO:root:Values not stored as dictionary\n",
      "INFO:root:Processing f1030370.csv\n",
      "INFO:root:Values not stored as dictionary\n",
      "INFO:root:Processing f1030371.csv\n",
      "INFO:root:Values not stored as dictionary\n"
     ]
    },
    {
     "data": {
      "text/html": [
       "<div>\n",
       "<table border=\"1\" class=\"dataframe\">\n",
       "  <thead>\n",
       "    <tr style=\"text-align: right;\">\n",
       "      <th></th>\n",
       "      <th>output.relations</th>\n",
       "      <th>submitted</th>\n",
       "      <th>started</th>\n",
       "      <th>worker</th>\n",
       "      <th>unit</th>\n",
       "      <th>duration</th>\n",
       "      <th>job</th>\n",
       "    </tr>\n",
       "    <tr>\n",
       "      <th>judgment</th>\n",
       "      <th></th>\n",
       "      <th></th>\n",
       "      <th></th>\n",
       "      <th></th>\n",
       "      <th></th>\n",
       "      <th></th>\n",
       "      <th></th>\n",
       "    </tr>\n",
       "  </thead>\n",
       "  <tbody>\n",
       "    <tr>\n",
       "      <th>3322384707</th>\n",
       "      <td>{u'[\"escorted_85_93-r-suspended_40_49\"]': 1}</td>\n",
       "      <td>2018-02-01 16:28:22</td>\n",
       "      <td>2018-02-01 16:27:47</td>\n",
       "      <td>24403612</td>\n",
       "      <td>1540190192</td>\n",
       "      <td>35</td>\n",
       "      <td>data/input/main/f1223683</td>\n",
       "    </tr>\n",
       "    <tr>\n",
       "      <th>3322389011</th>\n",
       "      <td>{u'[\"escorted_85_93--returned_114_122\"]': 1}</td>\n",
       "      <td>2018-02-01 16:29:31</td>\n",
       "      <td>2018-02-01 16:22:19</td>\n",
       "      <td>43847974</td>\n",
       "      <td>1540190192</td>\n",
       "      <td>432</td>\n",
       "      <td>data/input/main/f1223683</td>\n",
       "    </tr>\n",
       "    <tr>\n",
       "      <th>3322411943</th>\n",
       "      <td>{u'[\"escorted_85_93--returned_114_122\"': 1, u'...</td>\n",
       "      <td>2018-02-01 16:35:37</td>\n",
       "      <td>2018-02-01 16:34:07</td>\n",
       "      <td>44227105</td>\n",
       "      <td>1540190192</td>\n",
       "      <td>90</td>\n",
       "      <td>data/input/main/f1223683</td>\n",
       "    </tr>\n",
       "    <tr>\n",
       "      <th>3322416533</th>\n",
       "      <td>{u'[\"escorted_85_93-r-suspended_40_49\"': 1, u'...</td>\n",
       "      <td>2018-02-01 16:36:32</td>\n",
       "      <td>2018-02-01 16:36:03</td>\n",
       "      <td>30766630</td>\n",
       "      <td>1540190192</td>\n",
       "      <td>29</td>\n",
       "      <td>data/input/main/f1223683</td>\n",
       "    </tr>\n",
       "    <tr>\n",
       "      <th>3322447735</th>\n",
       "      <td>{u'[\"escorted_85_93-r-suspended_40_49\"': 1, u'...</td>\n",
       "      <td>2018-02-01 16:44:15</td>\n",
       "      <td>2018-02-01 16:43:19</td>\n",
       "      <td>40032300</td>\n",
       "      <td>1540190192</td>\n",
       "      <td>56</td>\n",
       "      <td>data/input/main/f1223683</td>\n",
       "    </tr>\n",
       "  </tbody>\n",
       "</table>\n",
       "</div>"
      ],
      "text/plain": [
       "                                             output.relations  \\\n",
       "judgment                                                        \n",
       "3322384707       {u'[\"escorted_85_93-r-suspended_40_49\"]': 1}   \n",
       "3322389011       {u'[\"escorted_85_93--returned_114_122\"]': 1}   \n",
       "3322411943  {u'[\"escorted_85_93--returned_114_122\"': 1, u'...   \n",
       "3322416533  {u'[\"escorted_85_93-r-suspended_40_49\"': 1, u'...   \n",
       "3322447735  {u'[\"escorted_85_93-r-suspended_40_49\"': 1, u'...   \n",
       "\n",
       "                     submitted             started    worker        unit  \\\n",
       "judgment                                                                   \n",
       "3322384707 2018-02-01 16:28:22 2018-02-01 16:27:47  24403612  1540190192   \n",
       "3322389011 2018-02-01 16:29:31 2018-02-01 16:22:19  43847974  1540190192   \n",
       "3322411943 2018-02-01 16:35:37 2018-02-01 16:34:07  44227105  1540190192   \n",
       "3322416533 2018-02-01 16:36:32 2018-02-01 16:36:03  30766630  1540190192   \n",
       "3322447735 2018-02-01 16:44:15 2018-02-01 16:43:19  40032300  1540190192   \n",
       "\n",
       "            duration                       job  \n",
       "judgment                                        \n",
       "3322384707        35  data/input/main/f1223683  \n",
       "3322389011       432  data/input/main/f1223683  \n",
       "3322411943        90  data/input/main/f1223683  \n",
       "3322416533        29  data/input/main/f1223683  \n",
       "3322447735        56  data/input/main/f1223683  "
      ]
     },
     "execution_count": 4,
     "metadata": {},
     "output_type": "execute_result"
    }
   ],
   "source": [
    "# Read data\n",
    "data, config = crowdtruth.load(\n",
    "    directory = \"data/input/main\",\n",
    "    config = config()\n",
    ")\n",
    "\n",
    "data['judgments'].head()"
   ]
  },
  {
   "cell_type": "code",
   "execution_count": 5,
   "metadata": {},
   "outputs": [
    {
     "name": "stderr",
     "output_type": "stream",
     "text": [
      "INFO:root:1 iterations; max d= 1.0 ; wqs d= 0.875005544406; sqs d= 0.775142092865; rqs d= 0.0\n",
      "INFO:root:2 iterations; max d= 0.425462064701 ; wqs d= 0.0801189411351; sqs d= 0.0557922194544; rqs d= 0.0\n",
      "INFO:root:3 iterations; max d= 0.179135259981 ; wqs d= 0.0133657191521; sqs d= 0.0252787707385; rqs d= 0.0\n",
      "INFO:root:4 iterations; max d= 0.0823774724284 ; wqs d= 0.0101070391391; sqs d= 0.0080062270742; rqs d= 0.0\n",
      "INFO:root:5 iterations; max d= 0.0622821720528 ; wqs d= 0.00335186668036; sqs d= 0.00640912527501; rqs d= 0.0\n",
      "INFO:root:6 iterations; max d= 0.0405766061531 ; wqs d= 0.00270187700676; sqs d= 0.00274143750744; rqs d= 0.0\n",
      "INFO:root:7 iterations; max d= 0.033125909587 ; wqs d= 0.0013333495404; sqs d= 0.0022042481688; rqs d= 0.0\n",
      "INFO:root:8 iterations; max d= 0.022506439128 ; wqs d= 0.000969105354719; sqs d= 0.00120984410669; rqs d= 0.0\n",
      "INFO:root:9 iterations; max d= 0.0146524463479 ; wqs d= 0.000564144450061; sqs d= 0.0008618853456; rqs d= 0.0\n",
      "INFO:root:10 iterations; max d= 0.00915942940154 ; wqs d= 0.000381563811478; sqs d= 0.000522361384126; rqs d= 0.0\n",
      "INFO:root:11 iterations; max d= 0.00570665419792 ; wqs d= 0.000236290363583; sqs d= 0.000348548682921; rqs d= 0.0\n",
      "INFO:root:12 iterations; max d= 0.00369016856327 ; wqs d= 0.00015524821395; sqs d= 0.000219089873507; rqs d= 0.0\n",
      "INFO:root:13 iterations; max d= 0.00234876429652 ; wqs d= 9.90794688933e-05; sqs d= 0.000143603104855; rqs d= 0.0\n",
      "INFO:root:14 iterations; max d= 0.00147938205275 ; wqs d= 6.53774866459e-05; sqs d= 9.25236747501e-05; rqs d= 0.0\n",
      "INFO:root:15 iterations; max d= 0.000924470886475 ; wqs d= 4.30198181883e-05; sqs d= 6.10892362515e-05; rqs d= 0.0\n"
     ]
    }
   ],
   "source": [
    "results = crowdtruth.run(data, config)"
   ]
  },
  {
   "cell_type": "code",
   "execution_count": 6,
   "metadata": {},
   "outputs": [
    {
     "data": {
      "text/plain": [
       "Text(0,0.5,u'Units')"
      ]
     },
     "execution_count": 6,
     "metadata": {},
     "output_type": "execute_result"
    },
    {
     "data": {
      "image/png": "[encoded data removed]",
      "text/plain": [
       "<matplotlib.figure.Figure at 0x114cacf10>"
      ]
     },
     "metadata": {},
     "output_type": "display_data"
    }
   ],
   "source": [
    "import matplotlib.pyplot as plt\n",
    "%matplotlib inline\n",
    "\n",
    "plt.hist(results[\"units\"][\"uqs\"])\n",
    "plt.xlabel(\"UQS\")\n",
    "plt.ylabel(\"Units\")"
   ]
  },
  {
   "cell_type": "code",
   "execution_count": 7,
   "metadata": {},
   "outputs": [
    {
     "data": {
      "text/plain": [
       "Text(0,0.5,u'Workers')"
      ]
     },
     "execution_count": 7,
     "metadata": {},
     "output_type": "execute_result"
    },
    {
     "data": {
      "image/png": "[encoded data removed]",
      "text/plain": [
       "<matplotlib.figure.Figure at 0x115298cd0>"
      ]
     },
     "metadata": {},
     "output_type": "display_data"
    }
   ],
   "source": [
    "plt.hist(results[\"workers\"][\"wqs\"])\n",
    "plt.xlabel(\"WQS\")\n",
    "plt.ylabel(\"Workers\")"
   ]
  },
  {
   "cell_type": "code",
   "execution_count": null,
   "metadata": {
    "collapsed": true
   },
   "outputs": [],
   "source": []
  }
 ],
 "metadata": {
  "kernelspec": {
   "display_name": "Python 2",
   "language": "python",
   "name": "python2"
  },
  "language_info": {
   "codemirror_mode": {
    "name": "ipython",
    "version": 2
   },
   "file_extension": ".py",
   "mimetype": "text/x-python",
   "name": "python",
   "nbconvert_exporter": "python",
   "pygments_lexer": "ipython2",
   "version": "2.7.13"
  }
 },
 "nbformat": 4,
 "nbformat_minor": 2
}
